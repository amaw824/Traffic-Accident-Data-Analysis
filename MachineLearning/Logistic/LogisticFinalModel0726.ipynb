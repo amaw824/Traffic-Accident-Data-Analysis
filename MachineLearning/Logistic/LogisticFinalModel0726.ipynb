{
 "cells": [
  {
   "cell_type": "code",
   "execution_count": null,
   "metadata": {},
   "outputs": [],
   "source": [
    "import pandas as pd\n",
    "import numpy as np\n",
    "from sklearn.preprocessing import LabelEncoder\n",
    "from sklearn.preprocessing import MinMaxScaler\n",
    "import pickle\n",
    "\n",
    "# 載入先前訓練好的 LabelEncoder 和 MinMaxScaler 模型\n",
    "with open(\"label_encoders.pickle\", \"rb\") as f:\n",
    "    label_encoders = pickle.load(f)\n",
    "\n",
    "with open(\"minmax_scaler.pkl\", \"rb\") as f:\n",
    "    scaler = pickle.load(f)\n",
    "\n"
   ]
  },
  {
   "cell_type": "code",
   "execution_count": null,
   "metadata": {},
   "outputs": [],
   "source": [
    "# 讀取CSV資料\n",
    "df = pd.read_csv(\"sample.csv\")\n",
    "\n",
    "# 去除特徵\n",
    "features_to_keep = [\n",
    "    \"WHOLE_TIME\",\n",
    "    \"CITY\",\n",
    "    \"LIGHT\",\n",
    "    \"Temperature\",\n",
    "    \"WS\",\n",
    "    \"RH\",\n",
    "    \"Precp\",\n",
    "    \"ROAD_TYPE_SUB1\",\n",
    "    \"SIGNAL_TYPE\",\n",
    "    \"VEHICLE_MAIN\",\n",
    "    \"OBJ_GENDER\",\n",
    "    \"OBJ_AGE\",\n",
    "    \"CAMERA_ID\",\n",
    "    \"EQUIP_TYPE\",\n",
    "    \"ACCIDENT_TYPE\"\n",
    "]\n",
    "\n"
   ]
  },
  {
   "cell_type": "code",
   "execution_count": null,
   "metadata": {},
   "outputs": [],
   "source": [
    "\n",
    "# 使用 df.drop() 將其餘特徵都 drop 掉\n",
    "df = df.drop(columns=[col for col in df.columns if col not in features_to_keep])\n",
    "\n",
    "# df[\"SPEED_LIMIT\"] = df[\"SPEED_LIMIT\"].astype(int)\n",
    "df[[\"Temperature\", \"RH\", \"WS\", \"Precp\"]] = df[\n",
    "    [\"Temperature\", \"RH\", \"WS\", \"Precp\"]\n",
    "].replace([\"/\", \"X\", \"...\", \"V\", \"&\", \"T\"], np.nan)\n",
    "df[[\"Temperature\", \"RH\", \"WS\", \"Precp\"]] = df[\n",
    "    [\"Temperature\", \"RH\", \"WS\", \"Precp\"]\n",
    "].apply(pd.to_numeric, errors=\"coerce\")\n",
    "df[\"CAMERA_ID\"] = df[\"CAMERA_ID\"].notna().astype(int)\n",
    "\n",
    "df[\"CAMERA_ID\"] = df[\"CAMERA_ID\"].fillna(0)\n",
    "df[\"CAMERA_ID\"] = df[\"CAMERA_ID\"].map({0: \"無\", 1: \"有\"})\n",
    "df[\"EQUIP_TYPE\"] = df[\"EQUIP_TYPE\"].fillna(\"無\")\n",
    "# df[\"ACCIDENT_TYPE\"] = df[\"ACCIDENT_TYPE\"].map({\"A1\": 1, \"A2\": 0})\n",
    "df[\"OBJ_GENDER\"] = df[\"OBJ_GENDER\"].map({\"男\": 1, \"女\": 0})\n",
    "\n"
   ]
  },
  {
   "cell_type": "code",
   "execution_count": null,
   "metadata": {},
   "outputs": [],
   "source": [
    "\n",
    "# 將資料中的\"\\n\"替換為NaN\n",
    "df.replace(\"\\n\", np.nan, inplace=True)\n",
    "\n",
    "# 刪除包含空值的列\n",
    "df.dropna(inplace=True)\n",
    "\n",
    "# 轉換資料\n",
    "for column in df.select_dtypes(include=\"object\"):\n",
    "    df[column] = label_encoders[column].transform(df[column])\n",
    "\n",
    "# 使用MinMaxScaler對數值特徵進行最小-最大標準化\n",
    "df_numerical = df.select_dtypes(include=[\"int64\", \"float64\"])\n",
    "df_numerical.fillna(df_numerical.mean(), inplace=True)\n",
    "\n",
    "# 在使用 MinMaxScaler 之前，記錄特徵的順序\n",
    "scaler.fit(df_numerical)\n",
    "\n",
    "# 將特徵進行最小-最大標準化並轉換資料\n",
    "df_numerical_scaled = scaler.transform(df_numerical)\n",
    "df[df_numerical.columns] = df_numerical_scaled\n",
    "\n",
    "# 定義新的特徵名稱順序\n",
    "new_feature_order = ['WHOLE_TIME', 'CITY', 'LIGHT', 'Temperature', 'WS', 'RH', 'Precp',\n",
    "       'ROAD_TYPE_SUB1', 'SIGNAL_TYPE', 'VEHICLE_MAIN', 'OBJ_GENDER',\n",
    "       'OBJ_AGE', 'CAMERA_ID', 'EQUIP_TYPE'] \n",
    "\n"
   ]
  },
  {
   "cell_type": "code",
   "execution_count": null,
   "metadata": {},
   "outputs": [],
   "source": [
    "# 使用 reindex 將 DataFrame 重新排序\n",
    "df = df.reindex(columns=new_feature_order)\n",
    "\n",
    "# 切割出 X_test，並在測試資料集中只保留訓練時使用的特徵\n",
    "X_test = df[new_feature_order]\n",
    "\n",
    "# 在測試資料集中只保留訓練時使用的特徵\n",
    "X_test = X_test[new_feature_order]\n",
    "\n"
   ]
  },
  {
   "cell_type": "code",
   "execution_count": null,
   "metadata": {},
   "outputs": [],
   "source": [
    "# 載入模型\n",
    "with open(\"logistic_regression_model.pkl\", \"rb\") as f:\n",
    "    model = pickle.load(f)\n",
    "\n",
    "# 使用模型進行預測\n",
    "y_prob = model.predict_proba(X_test)[:, 1]  # 生成機率值\n",
    "\n",
    "# 將預測機率添加回 DataFrame\n",
    "df[\"Probability\"] = y_prob\n",
    "\n",
    "# 顯示結果\n",
    "print(df[[\"Probability\"]])  # 只顯示生成的機率\n",
    "\n",
    "# 將 DataFrame 儲存成 CSV 檔案\n",
    "df.to_csv(\"predicted_results.csv\", index=False)"
   ]
  }
 ],
 "metadata": {
  "language_info": {
   "name": "python"
  },
  "orig_nbformat": 4
 },
 "nbformat": 4,
 "nbformat_minor": 2
}
