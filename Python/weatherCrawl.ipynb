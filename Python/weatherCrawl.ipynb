{
 "cells": [
  {
   "cell_type": "code",
   "execution_count": 1,
   "id": "cc75a73f",
   "metadata": {},
   "outputs": [],
   "source": [
    "# 操作 browser 的 API\n",
    "from selenium import webdriver\n",
    "from selenium.webdriver.chrome.service import Service\n",
    "\n",
    "# ChromeDriver 的下載管理工具\n",
    "from webdriver_manager.chrome import ChromeDriverManager\n",
    "\n",
    "# 處理逾時例外的工具\n",
    "from selenium.common.exceptions import TimeoutException\n",
    "\n",
    "from selenium.common.exceptions import ElementNotInteractableException\n",
    "\n",
    "# 面對動態網頁，等待某個元素出現的工具，通常與 exptected_conditions 搭配\n",
    "from selenium.webdriver.support.ui import WebDriverWait\n",
    "\n",
    "# 搭配 WebDriverWait 使用，對元素狀態的一種期待條件，若條件發生，則等待結束，往下一行執行\n",
    "from selenium.webdriver.support import expected_conditions as EC\n",
    "\n",
    "# 期待元素出現要透過什麼方式指定，通常與 EC、WebDriverWait 一起使用\n",
    "from selenium.webdriver.common.by import By\n",
    "\n",
    "# 強制等待 (執行期間休息一下)\n",
    "from time import sleep\n",
    "\n",
    "# 執行 command 的時候用的\n",
    "import os\n",
    "\n",
    "# 下載檔案的工具\n",
    "import wget\n",
    "\n",
    "from selenium.webdriver.support.ui import Select"
   ]
  },
  {
   "cell_type": "code",
   "execution_count": 2,
   "id": "75190570",
   "metadata": {},
   "outputs": [],
   "source": [
    "# 啟動瀏覽器工具的選項\n",
    "my_options = webdriver.ChromeOptions()\n",
    "# my_options.add_argument(\"--headless\")                #不開啟實體瀏覽器背景執行\n",
    "my_options.add_argument(\"--start-maximized\")         #最大化視窗\n",
    "my_options.add_argument(\"--incognito\")               #開啟無痕模式\n",
    "my_options.add_argument(\"--disable-popup-blocking\") #禁用彈出攔截\n",
    "my_options.add_argument(\"--disable-notifications\")  #取消 chrome 推播通知\n",
    "my_options.add_argument(\"--lang=zh-TW\")  #設定為正體中文"
   ]
  },
  {
   "cell_type": "code",
   "execution_count": 17,
   "id": "cc57e53b",
   "metadata": {},
   "outputs": [],
   "source": [
    "# 使用 Chrome 的 WebDriver\n",
    "driver = webdriver.Chrome(\n",
    "    options = my_options,\n",
    "    service = Service(ChromeDriverManager().install())\n",
    ")\n",
    "\n",
    "# 建立儲存圖片、影片的資料夾\n",
    "folderPath = '台南市資料'\n",
    "if not os.path.exists(folderPath):\n",
    "    os.makedirs(folderPath)\n",
    "    \n",
    "fullDownloadPath = os.getcwd() + '\\\\' + folderPath\n",
    "\n",
    "my_options.add_experimental_option(\"prefs\", {\n",
    "    \"download.default_directory\": fullDownloadPath,\n",
    "    \"download.prompt_for_download\": False,\n",
    "    \"download.directory_upgrade\": True,\n",
    "    \"safebrowsing_for_trusted_sources_enabled\": False,\n",
    "    \"safebrowsing.enabled\": False,\n",
    "    \"plugins.always_open_pdf_externally\": True\n",
    "})"
   ]
  },
  {
   "cell_type": "code",
   "execution_count": 18,
   "id": "dd8c8bf6",
   "metadata": {},
   "outputs": [],
   "source": [
    "# 走訪頁面\n",
    "def visit():\n",
    "    driver.get('https://e-service.cwb.gov.tw/HistoryDataQuery/DayDataController.do?command=viewMain&station=467410&stname=%25E8%2587%25BA%25E5%258D%2597&datepicker=2013-01-01&altitude=40.8m')\n",
    "    \n",
    "def visit1():\n",
    "    driver.get('https://e-service.cwb.gov.tw/HistoryDataQuery/DayDataController.do?command=viewMain&station=C1O820&stname=%25E5%25B7%25A6%25E9%258E%25AE&datepicker=2013-01-01&altitude=30m')\n",
    "        \n",
    "\n",
    "def select():\n",
    "    \n",
    "    try:\n",
    "\n",
    "        \n",
    "        # 等待元素出現\n",
    "        WebDriverWait(driver, 10).until(\n",
    "            EC.presence_of_element_located( \n",
    "                (By.CSS_SELECTOR, \"select#selectStno\") \n",
    "            )\n",
    "        )\n",
    "        \n",
    "        # 找到下拉式選單元素\n",
    "        select_element = driver.find_element(By.CSS_SELECTOR, \"select#selectStno\")\n",
    "\n",
    "        # 創建 Select 對象\n",
    "        select = Select(select_element)\n",
    "\n",
    "        # 獲取下拉式選單的選項数量\n",
    "        options_count = len(select.options)\n",
    "        \n",
    "        sleep(1)\n",
    "\n",
    "        \n",
    "        for j in range(67,66,-1):\n",
    "            print(j)\n",
    "            # 等待元素出現\n",
    "            WebDriverWait(driver, 10).until(\n",
    "                EC.presence_of_element_located( \n",
    "                    (By.CSS_SELECTOR, \"select#selectStno\") \n",
    "                )\n",
    "            )\n",
    "            \n",
    "            # 找到下拉式選單元素\n",
    "            select_element = driver.find_element(By.CSS_SELECTOR, \"select#selectStno\")\n",
    "\n",
    "            # 創建 Select 對象\n",
    "            select = Select(select_element)\n",
    "\n",
    "            # 選擇選項\n",
    "            select.select_by_index(j)\n",
    "\n",
    "            while True:\n",
    "                try:\n",
    "                    WebDriverWait(driver, 10).until(\n",
    "                        EC.presence_of_element_located( \n",
    "                            (By.CSS_SELECTOR, \"a#downloadCSV input\") \n",
    "                        )\n",
    "                    )\n",
    "\n",
    "\n",
    "                    driver.find_element(\n",
    "                        By.CSS_SELECTOR, \n",
    "                        \"a#downloadCSV input\"\n",
    "                    ).click()\n",
    "                    \n",
    "                # 等待元素出現\n",
    "                    WebDriverWait(driver, 10).until(\n",
    "                        EC.presence_of_element_located( \n",
    "                            (By.CSS_SELECTOR, \"a#nexItem input\") \n",
    "                        )\n",
    "                    )\n",
    "\n",
    "                    driver.find_element(\n",
    "                        By.CSS_SELECTOR, \n",
    "                        \"a#nexItem input\"\n",
    "                    ).click()\n",
    "\n",
    "\n",
    "                except ElementNotInteractableException:\n",
    "                    break\n",
    "                \n",
    "            visit()\n",
    "                \n",
    "            sleep(5)\n",
    "        \n",
    "    except TimeoutException:\n",
    "        print(\"等待逾時\")\n",
    "\n"
   ]
  },
  {
   "cell_type": "code",
   "execution_count": 19,
   "id": "18996269",
   "metadata": {},
   "outputs": [
    {
     "name": "stdout",
     "output_type": "stream",
     "text": [
      "67\n"
     ]
    }
   ],
   "source": [
    "# 主程式\n",
    "if __name__ == '__main__':\n",
    "    visit()\n",
    "    select()"
   ]
  },
  {
   "cell_type": "code",
   "execution_count": 13,
   "id": "a1d1857c",
   "metadata": {},
   "outputs": [
    {
     "name": "stdout",
     "output_type": "stream",
     "text": [
      "64\n"
     ]
    },
    {
     "ename": "NoSuchWindowException",
     "evalue": "Message: no such window: target window already closed\nfrom unknown error: web view not found\n  (Session info: chrome=113.0.5672.127)\nStacktrace:\nBacktrace:\n\tGetHandleVerifier [0x004A8893+48451]\n\t(No symbol) [0x0043B8A1]\n\t(No symbol) [0x00345058]\n\t(No symbol) [0x0032D073]\n\t(No symbol) [0x0038DEBB]\n\t(No symbol) [0x0039BFD3]\n\t(No symbol) [0x0038A0B6]\n\t(No symbol) [0x00367E08]\n\t(No symbol) [0x00368F2D]\n\tGetHandleVerifier [0x00708E3A+2540266]\n\tGetHandleVerifier [0x00748959+2801161]\n\tGetHandleVerifier [0x0074295C+2776588]\n\tGetHandleVerifier [0x00532280+612144]\n\t(No symbol) [0x00444F6C]\n\t(No symbol) [0x004411D8]\n\t(No symbol) [0x004412BB]\n\t(No symbol) [0x00434857]\n\tBaseThreadInitThunk [0x773F00C9+25]\n\tRtlGetAppContainerNamedObjectPath [0x77CD7B4E+286]\n\tRtlGetAppContainerNamedObjectPath [0x77CD7B1E+238]\n",
     "output_type": "error",
     "traceback": [
      "\u001b[1;31m---------------------------------------------------------------------------\u001b[0m",
      "\u001b[1;31mNoSuchWindowException\u001b[0m                     Traceback (most recent call last)",
      "Cell \u001b[1;32mIn[13], line 4\u001b[0m\n\u001b[0;32m      2\u001b[0m \u001b[38;5;28;01mif\u001b[39;00m \u001b[38;5;18m__name__\u001b[39m \u001b[38;5;241m==\u001b[39m \u001b[38;5;124m'\u001b[39m\u001b[38;5;124m__main__\u001b[39m\u001b[38;5;124m'\u001b[39m:\n\u001b[0;32m      3\u001b[0m     visit1()\n\u001b[1;32m----> 4\u001b[0m     \u001b[43mselect\u001b[49m\u001b[43m(\u001b[49m\u001b[43m)\u001b[49m\n",
      "Cell \u001b[1;32mIn[6], line 52\u001b[0m, in \u001b[0;36mselect\u001b[1;34m()\u001b[0m\n\u001b[0;32m     50\u001b[0m \u001b[38;5;28;01mwhile\u001b[39;00m \u001b[38;5;28;01mTrue\u001b[39;00m:\n\u001b[0;32m     51\u001b[0m     \u001b[38;5;28;01mtry\u001b[39;00m:\n\u001b[1;32m---> 52\u001b[0m         \u001b[43mWebDriverWait\u001b[49m\u001b[43m(\u001b[49m\u001b[43mdriver\u001b[49m\u001b[43m,\u001b[49m\u001b[43m \u001b[49m\u001b[38;5;241;43m10\u001b[39;49m\u001b[43m)\u001b[49m\u001b[38;5;241;43m.\u001b[39;49m\u001b[43muntil\u001b[49m\u001b[43m(\u001b[49m\n\u001b[0;32m     53\u001b[0m \u001b[43m            \u001b[49m\u001b[43mEC\u001b[49m\u001b[38;5;241;43m.\u001b[39;49m\u001b[43mpresence_of_element_located\u001b[49m\u001b[43m(\u001b[49m\u001b[43m \u001b[49m\n\u001b[0;32m     54\u001b[0m \u001b[43m                \u001b[49m\u001b[43m(\u001b[49m\u001b[43mBy\u001b[49m\u001b[38;5;241;43m.\u001b[39;49m\u001b[43mCSS_SELECTOR\u001b[49m\u001b[43m,\u001b[49m\u001b[43m \u001b[49m\u001b[38;5;124;43m\"\u001b[39;49m\u001b[38;5;124;43ma#downloadCSV input\u001b[39;49m\u001b[38;5;124;43m\"\u001b[39;49m\u001b[43m)\u001b[49m\u001b[43m \u001b[49m\n\u001b[0;32m     55\u001b[0m \u001b[43m            \u001b[49m\u001b[43m)\u001b[49m\n\u001b[0;32m     56\u001b[0m \u001b[43m        \u001b[49m\u001b[43m)\u001b[49m\n\u001b[0;32m     59\u001b[0m         driver\u001b[38;5;241m.\u001b[39mfind_element(\n\u001b[0;32m     60\u001b[0m             By\u001b[38;5;241m.\u001b[39mCSS_SELECTOR, \n\u001b[0;32m     61\u001b[0m             \u001b[38;5;124m\"\u001b[39m\u001b[38;5;124ma#downloadCSV input\u001b[39m\u001b[38;5;124m\"\u001b[39m\n\u001b[0;32m     62\u001b[0m         )\u001b[38;5;241m.\u001b[39mclick()\n\u001b[0;32m     64\u001b[0m     \u001b[38;5;66;03m# 等待元素出現\u001b[39;00m\n",
      "File \u001b[1;32m~\\anaconda3\\envs\\web_scraping\\lib\\site-packages\\selenium\\webdriver\\support\\wait.py:86\u001b[0m, in \u001b[0;36mWebDriverWait.until\u001b[1;34m(self, method, message)\u001b[0m\n\u001b[0;32m     84\u001b[0m \u001b[38;5;28;01mwhile\u001b[39;00m \u001b[38;5;28;01mTrue\u001b[39;00m:\n\u001b[0;32m     85\u001b[0m     \u001b[38;5;28;01mtry\u001b[39;00m:\n\u001b[1;32m---> 86\u001b[0m         value \u001b[38;5;241m=\u001b[39m \u001b[43mmethod\u001b[49m\u001b[43m(\u001b[49m\u001b[38;5;28;43mself\u001b[39;49m\u001b[38;5;241;43m.\u001b[39;49m\u001b[43m_driver\u001b[49m\u001b[43m)\u001b[49m\n\u001b[0;32m     87\u001b[0m         \u001b[38;5;28;01mif\u001b[39;00m value:\n\u001b[0;32m     88\u001b[0m             \u001b[38;5;28;01mreturn\u001b[39;00m value\n",
      "File \u001b[1;32m~\\anaconda3\\envs\\web_scraping\\lib\\site-packages\\selenium\\webdriver\\support\\expected_conditions.py:69\u001b[0m, in \u001b[0;36mpresence_of_element_located.<locals>._predicate\u001b[1;34m(driver)\u001b[0m\n\u001b[0;32m     68\u001b[0m \u001b[38;5;28;01mdef\u001b[39;00m \u001b[38;5;21m_predicate\u001b[39m(driver):\n\u001b[1;32m---> 69\u001b[0m     \u001b[38;5;28;01mreturn\u001b[39;00m \u001b[43mdriver\u001b[49m\u001b[38;5;241;43m.\u001b[39;49m\u001b[43mfind_element\u001b[49m\u001b[43m(\u001b[49m\u001b[38;5;241;43m*\u001b[39;49m\u001b[43mlocator\u001b[49m\u001b[43m)\u001b[49m\n",
      "File \u001b[1;32m~\\anaconda3\\envs\\web_scraping\\lib\\site-packages\\selenium\\webdriver\\remote\\webdriver.py:831\u001b[0m, in \u001b[0;36mWebDriver.find_element\u001b[1;34m(self, by, value)\u001b[0m\n\u001b[0;32m    828\u001b[0m     by \u001b[38;5;241m=\u001b[39m By\u001b[38;5;241m.\u001b[39mCSS_SELECTOR\n\u001b[0;32m    829\u001b[0m     value \u001b[38;5;241m=\u001b[39m \u001b[38;5;124mf\u001b[39m\u001b[38;5;124m'\u001b[39m\u001b[38;5;124m[name=\u001b[39m\u001b[38;5;124m\"\u001b[39m\u001b[38;5;132;01m{\u001b[39;00mvalue\u001b[38;5;132;01m}\u001b[39;00m\u001b[38;5;124m\"\u001b[39m\u001b[38;5;124m]\u001b[39m\u001b[38;5;124m'\u001b[39m\n\u001b[1;32m--> 831\u001b[0m \u001b[38;5;28;01mreturn\u001b[39;00m \u001b[38;5;28;43mself\u001b[39;49m\u001b[38;5;241;43m.\u001b[39;49m\u001b[43mexecute\u001b[49m\u001b[43m(\u001b[49m\u001b[43mCommand\u001b[49m\u001b[38;5;241;43m.\u001b[39;49m\u001b[43mFIND_ELEMENT\u001b[49m\u001b[43m,\u001b[49m\u001b[43m \u001b[49m\u001b[43m{\u001b[49m\u001b[38;5;124;43m\"\u001b[39;49m\u001b[38;5;124;43musing\u001b[39;49m\u001b[38;5;124;43m\"\u001b[39;49m\u001b[43m:\u001b[49m\u001b[43m \u001b[49m\u001b[43mby\u001b[49m\u001b[43m,\u001b[49m\u001b[43m \u001b[49m\u001b[38;5;124;43m\"\u001b[39;49m\u001b[38;5;124;43mvalue\u001b[39;49m\u001b[38;5;124;43m\"\u001b[39;49m\u001b[43m:\u001b[49m\u001b[43m \u001b[49m\u001b[43mvalue\u001b[49m\u001b[43m}\u001b[49m\u001b[43m)\u001b[49m[\u001b[38;5;124m\"\u001b[39m\u001b[38;5;124mvalue\u001b[39m\u001b[38;5;124m\"\u001b[39m]\n",
      "File \u001b[1;32m~\\anaconda3\\envs\\web_scraping\\lib\\site-packages\\selenium\\webdriver\\remote\\webdriver.py:440\u001b[0m, in \u001b[0;36mWebDriver.execute\u001b[1;34m(self, driver_command, params)\u001b[0m\n\u001b[0;32m    438\u001b[0m response \u001b[38;5;241m=\u001b[39m \u001b[38;5;28mself\u001b[39m\u001b[38;5;241m.\u001b[39mcommand_executor\u001b[38;5;241m.\u001b[39mexecute(driver_command, params)\n\u001b[0;32m    439\u001b[0m \u001b[38;5;28;01mif\u001b[39;00m response:\n\u001b[1;32m--> 440\u001b[0m     \u001b[38;5;28;43mself\u001b[39;49m\u001b[38;5;241;43m.\u001b[39;49m\u001b[43merror_handler\u001b[49m\u001b[38;5;241;43m.\u001b[39;49m\u001b[43mcheck_response\u001b[49m\u001b[43m(\u001b[49m\u001b[43mresponse\u001b[49m\u001b[43m)\u001b[49m\n\u001b[0;32m    441\u001b[0m     response[\u001b[38;5;124m\"\u001b[39m\u001b[38;5;124mvalue\u001b[39m\u001b[38;5;124m\"\u001b[39m] \u001b[38;5;241m=\u001b[39m \u001b[38;5;28mself\u001b[39m\u001b[38;5;241m.\u001b[39m_unwrap_value(response\u001b[38;5;241m.\u001b[39mget(\u001b[38;5;124m\"\u001b[39m\u001b[38;5;124mvalue\u001b[39m\u001b[38;5;124m\"\u001b[39m, \u001b[38;5;28;01mNone\u001b[39;00m))\n\u001b[0;32m    442\u001b[0m     \u001b[38;5;28;01mreturn\u001b[39;00m response\n",
      "File \u001b[1;32m~\\anaconda3\\envs\\web_scraping\\lib\\site-packages\\selenium\\webdriver\\remote\\errorhandler.py:245\u001b[0m, in \u001b[0;36mErrorHandler.check_response\u001b[1;34m(self, response)\u001b[0m\n\u001b[0;32m    243\u001b[0m         alert_text \u001b[38;5;241m=\u001b[39m value[\u001b[38;5;124m\"\u001b[39m\u001b[38;5;124malert\u001b[39m\u001b[38;5;124m\"\u001b[39m]\u001b[38;5;241m.\u001b[39mget(\u001b[38;5;124m\"\u001b[39m\u001b[38;5;124mtext\u001b[39m\u001b[38;5;124m\"\u001b[39m)\n\u001b[0;32m    244\u001b[0m     \u001b[38;5;28;01mraise\u001b[39;00m exception_class(message, screen, stacktrace, alert_text)  \u001b[38;5;66;03m# type: ignore[call-arg]  # mypy is not smart enough here\u001b[39;00m\n\u001b[1;32m--> 245\u001b[0m \u001b[38;5;28;01mraise\u001b[39;00m exception_class(message, screen, stacktrace)\n",
      "\u001b[1;31mNoSuchWindowException\u001b[0m: Message: no such window: target window already closed\nfrom unknown error: web view not found\n  (Session info: chrome=113.0.5672.127)\nStacktrace:\nBacktrace:\n\tGetHandleVerifier [0x004A8893+48451]\n\t(No symbol) [0x0043B8A1]\n\t(No symbol) [0x00345058]\n\t(No symbol) [0x0032D073]\n\t(No symbol) [0x0038DEBB]\n\t(No symbol) [0x0039BFD3]\n\t(No symbol) [0x0038A0B6]\n\t(No symbol) [0x00367E08]\n\t(No symbol) [0x00368F2D]\n\tGetHandleVerifier [0x00708E3A+2540266]\n\tGetHandleVerifier [0x00748959+2801161]\n\tGetHandleVerifier [0x0074295C+2776588]\n\tGetHandleVerifier [0x00532280+612144]\n\t(No symbol) [0x00444F6C]\n\t(No symbol) [0x004411D8]\n\t(No symbol) [0x004412BB]\n\t(No symbol) [0x00434857]\n\tBaseThreadInitThunk [0x773F00C9+25]\n\tRtlGetAppContainerNamedObjectPath [0x77CD7B4E+286]\n\tRtlGetAppContainerNamedObjectPath [0x77CD7B1E+238]\n"
     ]
    }
   ],
   "source": [
    "# 主程式\n",
    "if __name__ == '__main__':\n",
    "    visit1()\n",
    "    select()"
   ]
  },
  {
   "cell_type": "code",
   "execution_count": null,
   "id": "f640d087",
   "metadata": {},
   "outputs": [],
   "source": []
  }
 ],
 "metadata": {
  "kernelspec": {
   "display_name": "Python 3 (ipykernel)",
   "language": "python",
   "name": "python3"
  },
  "language_info": {
   "codemirror_mode": {
    "name": "ipython",
    "version": 3
   },
   "file_extension": ".py",
   "mimetype": "text/x-python",
   "name": "python",
   "nbconvert_exporter": "python",
   "pygments_lexer": "ipython3",
   "version": "3.10.10"
  }
 },
 "nbformat": 4,
 "nbformat_minor": 5
}
